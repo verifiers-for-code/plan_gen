{
 "cells": [
  {
   "cell_type": "code",
   "execution_count": 1,
   "metadata": {},
   "outputs": [],
   "source": [
    "import tiktoken\n",
    "from datasets import load_dataset"
   ]
  },
  {
   "cell_type": "code",
   "execution_count": 2,
   "metadata": {},
   "outputs": [
    {
     "name": "stderr",
     "output_type": "stream",
     "text": [
      "Downloading readme: 100%|██████████| 319/319 [00:00<00:00, 1.42MB/s]\n",
      "Downloading data: 100%|██████████| 183M/183M [00:01<00:00, 91.9MB/s] \n",
      "Downloading data: 100%|██████████| 115M/115M [00:01<00:00, 88.6MB/s] \n",
      "Generating train split: 100%|██████████| 521593/521593 [00:03<00:00, 136381.64 examples/s]\n"
     ]
    }
   ],
   "source": [
    "df = load_dataset('verifiers-for-code/Combined-Python-520k')"
   ]
  },
  {
   "cell_type": "code",
   "execution_count": 6,
   "metadata": {},
   "outputs": [
    {
     "name": "stderr",
     "output_type": "stream",
     "text": [
      "Filter: 100%|██████████| 521593/521593 [01:08<00:00, 7599.13 examples/s] \n"
     ]
    }
   ],
   "source": [
    "tokenizer = tiktoken.encoding_for_model(\"gpt-4\")\n",
    "\n",
    "def count_tokens(text):\n",
    "    \"\"\"Count the number of tokens in a given text, allowing the '<|endoftext|>' token.\"\"\"\n",
    "    return len(tokenizer.encode(text, allowed_special={'<|endoftext|>'}))\n",
    "\n",
    "# Filter the dataset\n",
    "filtered_dataset = df.filter(\n",
    "    lambda example: count_tokens(example['prompt']) < 256\n",
    ")"
   ]
  },
  {
   "cell_type": "code",
   "execution_count": 7,
   "metadata": {},
   "outputs": [
    {
     "data": {
      "text/plain": [
       "DatasetDict({\n",
       "    train: Dataset({\n",
       "        features: ['prompt', 'output'],\n",
       "        num_rows: 449351\n",
       "    })\n",
       "})"
      ]
     },
     "execution_count": 7,
     "metadata": {},
     "output_type": "execute_result"
    }
   ],
   "source": [
    "filtered_dataset"
   ]
  },
  {
   "cell_type": "code",
   "execution_count": 8,
   "metadata": {},
   "outputs": [
    {
     "name": "stderr",
     "output_type": "stream",
     "text": [
      "Creating parquet from Arrow format: 100%|██████████| 225/225 [00:03<00:00, 63.82ba/s]\n",
      "Creating parquet from Arrow format: 100%|██████████| 225/225 [00:03<00:00, 66.68ba/s]\n",
      "Uploading the dataset shards: 100%|██████████| 2/2 [00:12<00:00,  6.08s/it]\n"
     ]
    },
    {
     "data": {
      "text/plain": [
       "CommitInfo(commit_url='https://huggingface.co/datasets/verifiers-for-code/Combined-Python-450k-filtered/commit/d8a6970454fd0ca38f493a68ecb7ce6c13a71428', commit_message='Upload dataset', commit_description='', oid='d8a6970454fd0ca38f493a68ecb7ce6c13a71428', pr_url=None, pr_revision=None, pr_num=None)"
      ]
     },
     "execution_count": 8,
     "metadata": {},
     "output_type": "execute_result"
    }
   ],
   "source": [
    "filtered_dataset.push_to_hub('verifiers-for-code/Combined-Python-450k-filtered')"
   ]
  },
  {
   "cell_type": "code",
   "execution_count": null,
   "metadata": {},
   "outputs": [],
   "source": []
  }
 ],
 "metadata": {
  "kernelspec": {
   "display_name": "inference",
   "language": "python",
   "name": "python3"
  },
  "language_info": {
   "codemirror_mode": {
    "name": "ipython",
    "version": 3
   },
   "file_extension": ".py",
   "mimetype": "text/x-python",
   "name": "python",
   "nbconvert_exporter": "python",
   "pygments_lexer": "ipython3",
   "version": "3.10.14"
  }
 },
 "nbformat": 4,
 "nbformat_minor": 2
}
