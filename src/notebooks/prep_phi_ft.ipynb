{
 "cells": [
  {
   "cell_type": "code",
   "execution_count": 1,
   "metadata": {},
   "outputs": [
    {
     "name": "stderr",
     "output_type": "stream",
     "text": [
      "/home/abhinav/miniconda3/envs/inference/lib/python3.10/site-packages/tqdm/auto.py:21: TqdmWarning: IProgress not found. Please update jupyter and ipywidgets. See https://ipywidgets.readthedocs.io/en/stable/user_install.html\n",
      "  from .autonotebook import tqdm as notebook_tqdm\n"
     ]
    }
   ],
   "source": [
    "from datasets import load_dataset\n",
    "from transformers import AutoTokenizer"
   ]
  },
  {
   "cell_type": "code",
   "execution_count": 2,
   "metadata": {},
   "outputs": [
    {
     "name": "stderr",
     "output_type": "stream",
     "text": [
      "Downloading readme: 100%|██████████| 475/475 [00:00<00:00, 1.71MB/s]\n",
      "Downloading data: 100%|██████████| 53.4M/53.4M [00:07<00:00, 7.09MB/s]\n",
      "Generating train split: 100%|██████████| 10000/10000 [00:00<00:00, 22712.46 examples/s]\n"
     ]
    }
   ],
   "source": [
    "\n",
    "# Load the dataset\n",
    "dataset = load_dataset(\"verifiers-for-code/sampled_10k_from_27k\", split='train')\n",
    "\n",
    "# Load the tokenizer for the chat template\n",
    "tokenizer = AutoTokenizer.from_pretrained(\"meta-llama/Meta-Llama-3-8B-Instruct\")\n",
    "\n",
    "SYS = \"\"\"\n",
    "You are given the start of a function for a Python program. Your job is to produce a detailed plan. First, analyze and think about the function, then produce a plan. Do not generate any code. The function and docstring will be provided, so they do not need to be defined or initialized again within your plan.\n",
    "\n",
    "Respond in the following format:\n",
    "\n",
    "<thinking>\n",
    "Your thought process and analysis of the function goes here. This should include considerations about the function's purpose, inputs, outputs, and any potential challenges or considerations.\n",
    "</thinking>\n",
    "\n",
    "<plan>\n",
    "Your detailed plan for implementing the function goes here. This should outline the steps to implement the function without including actual code.\n",
    "</plan>\n",
    "\n",
    "Ensure your response follows this exact format, with the analysis enclosed in <thinking> tags and the plan enclosed in <plan> tags. The content within each tag should be a continuous paragraph without line breaks.\n",
    "\"\"\"\n",
    "\n",
    "def apply_template(example):\n",
    "    chat_prompt = tokenizer.apply_chat_template(\n",
    "        [\n",
    "            {\n",
    "                \"role\": \"system\",\n",
    "                \"content\": SYS,\n",
    "            },\n",
    "            {\"role\": \"user\", \"content\": example['input']},\n",
    "            {\"role\": \"assistant\", \"content\": example['gpt-4o-mini-plans']},\n",
    "        ],\n",
    "        tokenize=False\n",
    "    )\n",
    "    return {\"text_llama\": chat_prompt}"
   ]
  },
  {
   "cell_type": "code",
   "execution_count": 3,
   "metadata": {},
   "outputs": [
    {
     "name": "stderr",
     "output_type": "stream",
     "text": [
      "Map: 100%|██████████| 10000/10000 [00:01<00:00, 6036.29 examples/s]\n"
     ]
    }
   ],
   "source": [
    "processed_dataset = dataset.map(apply_template)\n",
    "\n",
    "# Keep only the 'text' column\n",
    "# processed_dataset = processed_dataset.remove_columns([col for col in processed_dataset.column_names if col != 'text'])\n"
   ]
  },
  {
   "cell_type": "code",
   "execution_count": 4,
   "metadata": {},
   "outputs": [
    {
     "data": {
      "text/plain": [
       "{'input': 'class Stack:\\n    def __init__(self):\\n        self.stack = []\\n\\n    def push(self, element):\\n        self.stack.append(element)\\n\\n    def pop(self):\\n        if self.is_empty():\\n            raise IndexError(\"Stack is empty\")\\n        return self.stack.pop()\\n\\n    def is_empty(self):\\n        return len(self.stack) == 0\\n\\n    def print_stack_in_reverse(self):\\n        \"\"\"\\n        Prints the elements of the stack in reverse order.\\n        \\n        >>> stack = Stack()\\n        >>> stack.push(1)\\n        >>> stack.push(2)\\n        >>> stack.push(3)\\n        >>> stack.print_stack_in_reverse()\\n        3\\n        2\\n        1\\n        >>> stack = Stack()\\n        >>> stack.print_stack_in_reverse()\\n        Stack is empty\\n        \"\"\"',\n",
       " 'code': 'Sure! Here\\'s an example implementation of a function called `print_stack_in_reverse` that prints the elements of a stack in reverse order:\\n\\n```python\\nclass Stack:\\n    \"\"\"\\n    A class representing a stack data structure.\\n    \"\"\"\\n\\n    def __init__(self):\\n        \"\"\"\\n        Initializes an empty stack.\\n        \"\"\"\\n        self.stack = []\\n\\n    def push(self, element):\\n        \"\"\"\\n        Pushes an element onto the stack.\\n\\n        Args:\\n            element: The element to be pushed onto the stack.\\n        \"\"\"\\n        self.stack.append(element)\\n\\n    def pop(self):\\n        \"\"\"\\n        Removes and returns the top element from the stack.\\n\\n        Returns:\\n            The top element of the stack.\\n        \"\"\"\\n        if self.is_empty():\\n            raise IndexError(\"Stack is empty\")\\n        return self.stack.pop()\\n\\n    def is_empty(self):\\n        \"\"\"\\n        Checks if the stack is empty.\\n\\n        Returns:\\n            True if the stack is empty, False otherwise.\\n        \"\"\"\\n        return len(self.stack) == 0\\n\\n    def print_stack_in_reverse(self):\\n        \"\"\"\\n        Prints the elements of the stack in reverse order.\\n\\n        This method pops each element from the stack and prints it, effectively printing the elements in reverse order.\\n        \"\"\"\\n        if self.is_empty():\\n            print(\"Stack is empty\")\\n        else:\\n            reversed_stack = []\\n            while not self.is_empty():\\n                reversed_stack.append(self.pop())\\n\\n            for element in reversed(reversed_stack):\\n                print(element)\\n```\\n\\nIn this implementation, we have a `Stack` class that represents a stack data structure. The class has methods to `push` (adds an element to the top of the stack), `pop` (removes and returns the top element of the stack), and `is_empty` (checks if the stack is empty).\\n\\nThe `print_stack_in_reverse` method uses a temporary list `reversed_stack` to store the popped elements from the original stack in reverse order. It then iterates over `reversed(reversed_stack)` to print each element in reverse order.\\n\\nPlease note that this implementation assumes a stack as a list. If you are implementing a different type of stack, you may need to modify the code accordingly.',\n",
       " 'gpt-4o-mini-plans': \"<thinking>\\nThe `print_stack_in_reverse` function's purpose is to output the elements of the stack in reverse order, essentially displaying the last element pushed first and the first element pushed last. The function does not take any parameters and relies on the internal state of the stack. It is important to consider the case when the stack is empty, as this should result in a specific message being printed rather than attempting to access elements that do not exist, which could lead to errors. The expected output includes printing each element on a new line. The challenge lies in managing the state of the stack to ensure that it can print correctly, including handling the empty state appropriately.\\n</thinking>\\n<plan>\\n1. Check if the stack is empty by calling the is_empty method.\\n2. If the stack is empty, print a message indicating 'Stack is empty'.\\n3. If the stack is not empty, create a temporary list to hold the elements for printing.\\n4. Iterate through the elements of the stack in reverse order using a loop that starts from the last index down to the first index.\\n5. For each element in the reverse iteration, print the element directly to the output.\\n6. Ensure that each element is printed on a new line.\\n</plan>\",\n",
       " 'text': '<|system|>\\n\\nYou are given the start of a function for a Python program. Your job is to produce a detailed plan. First, analyze and think about the function, then produce a plan. Do not generate any code. The function and docstring will be provided, so they do not need to be defined or initialized again within your plan.\\n\\nRespond in the following format:\\n\\n<thinking>\\nYour thought process and analysis of the function goes here. This should include considerations about the function\\'s purpose, inputs, outputs, and any potential challenges or considerations.\\n</thinking>\\n\\n<plan>\\nYour detailed plan for implementing the function goes here. This should outline the steps to implement the function without including actual code.\\n</plan>\\n\\nEnsure your response follows this exact format, with the analysis enclosed in <thinking> tags and the plan enclosed in <plan> tags. The content within each tag should be a continuous paragraph without line breaks.\\n<|end|>\\n<|user|>\\nclass Stack:\\n    def __init__(self):\\n        self.stack = []\\n\\n    def push(self, element):\\n        self.stack.append(element)\\n\\n    def pop(self):\\n        if self.is_empty():\\n            raise IndexError(\"Stack is empty\")\\n        return self.stack.pop()\\n\\n    def is_empty(self):\\n        return len(self.stack) == 0\\n\\n    def print_stack_in_reverse(self):\\n        \"\"\"\\n        Prints the elements of the stack in reverse order.\\n        \\n        >>> stack = Stack()\\n        >>> stack.push(1)\\n        >>> stack.push(2)\\n        >>> stack.push(3)\\n        >>> stack.print_stack_in_reverse()\\n        3\\n        2\\n        1\\n        >>> stack = Stack()\\n        >>> stack.print_stack_in_reverse()\\n        Stack is empty\\n        \"\"\"<|end|>\\n<|assistant|>\\n<thinking>\\nThe `print_stack_in_reverse` function\\'s purpose is to output the elements of the stack in reverse order, essentially displaying the last element pushed first and the first element pushed last. The function does not take any parameters and relies on the internal state of the stack. It is important to consider the case when the stack is empty, as this should result in a specific message being printed rather than attempting to access elements that do not exist, which could lead to errors. The expected output includes printing each element on a new line. The challenge lies in managing the state of the stack to ensure that it can print correctly, including handling the empty state appropriately.\\n</thinking>\\n<plan>\\n1. Check if the stack is empty by calling the is_empty method.\\n2. If the stack is empty, print a message indicating \\'Stack is empty\\'.\\n3. If the stack is not empty, create a temporary list to hold the elements for printing.\\n4. Iterate through the elements of the stack in reverse order using a loop that starts from the last index down to the first index.\\n5. For each element in the reverse iteration, print the element directly to the output.\\n6. Ensure that each element is printed on a new line.\\n</plan><|end|>\\n<|endoftext|>',\n",
       " 'text_gemma': '<bos><start_of_turn>user\\nclass Stack:\\n    def __init__(self):\\n        self.stack = []\\n\\n    def push(self, element):\\n        self.stack.append(element)\\n\\n    def pop(self):\\n        if self.is_empty():\\n            raise IndexError(\"Stack is empty\")\\n        return self.stack.pop()\\n\\n    def is_empty(self):\\n        return len(self.stack) == 0\\n\\n    def print_stack_in_reverse(self):\\n        \"\"\"\\n        Prints the elements of the stack in reverse order.\\n        \\n        >>> stack = Stack()\\n        >>> stack.push(1)\\n        >>> stack.push(2)\\n        >>> stack.push(3)\\n        >>> stack.print_stack_in_reverse()\\n        3\\n        2\\n        1\\n        >>> stack = Stack()\\n        >>> stack.print_stack_in_reverse()\\n        Stack is empty\\n        \"\"\"<end_of_turn>\\n<start_of_turn>model\\n<thinking>\\nThe `print_stack_in_reverse` function\\'s purpose is to output the elements of the stack in reverse order, essentially displaying the last element pushed first and the first element pushed last. The function does not take any parameters and relies on the internal state of the stack. It is important to consider the case when the stack is empty, as this should result in a specific message being printed rather than attempting to access elements that do not exist, which could lead to errors. The expected output includes printing each element on a new line. The challenge lies in managing the state of the stack to ensure that it can print correctly, including handling the empty state appropriately.\\n</thinking>\\n<plan>\\n1. Check if the stack is empty by calling the is_empty method.\\n2. If the stack is empty, print a message indicating \\'Stack is empty\\'.\\n3. If the stack is not empty, create a temporary list to hold the elements for printing.\\n4. Iterate through the elements of the stack in reverse order using a loop that starts from the last index down to the first index.\\n5. For each element in the reverse iteration, print the element directly to the output.\\n6. Ensure that each element is printed on a new line.\\n</plan><end_of_turn>\\n',\n",
       " 'text_nosys_phi': '<|user|>\\nclass Stack:\\n    def __init__(self):\\n        self.stack = []\\n\\n    def push(self, element):\\n        self.stack.append(element)\\n\\n    def pop(self):\\n        if self.is_empty():\\n            raise IndexError(\"Stack is empty\")\\n        return self.stack.pop()\\n\\n    def is_empty(self):\\n        return len(self.stack) == 0\\n\\n    def print_stack_in_reverse(self):\\n        \"\"\"\\n        Prints the elements of the stack in reverse order.\\n        \\n        >>> stack = Stack()\\n        >>> stack.push(1)\\n        >>> stack.push(2)\\n        >>> stack.push(3)\\n        >>> stack.print_stack_in_reverse()\\n        3\\n        2\\n        1\\n        >>> stack = Stack()\\n        >>> stack.print_stack_in_reverse()\\n        Stack is empty\\n        \"\"\"<|end|>\\n<|assistant|>\\n<thinking>\\nThe `print_stack_in_reverse` function\\'s purpose is to output the elements of the stack in reverse order, essentially displaying the last element pushed first and the first element pushed last. The function does not take any parameters and relies on the internal state of the stack. It is important to consider the case when the stack is empty, as this should result in a specific message being printed rather than attempting to access elements that do not exist, which could lead to errors. The expected output includes printing each element on a new line. The challenge lies in managing the state of the stack to ensure that it can print correctly, including handling the empty state appropriately.\\n</thinking>\\n<plan>\\n1. Check if the stack is empty by calling the is_empty method.\\n2. If the stack is empty, print a message indicating \\'Stack is empty\\'.\\n3. If the stack is not empty, create a temporary list to hold the elements for printing.\\n4. Iterate through the elements of the stack in reverse order using a loop that starts from the last index down to the first index.\\n5. For each element in the reverse iteration, print the element directly to the output.\\n6. Ensure that each element is printed on a new line.\\n</plan><|end|>\\n<|endoftext|>',\n",
       " 'text_llama': '<|begin_of_text|><|start_header_id|>system<|end_header_id|>\\n\\nYou are given the start of a function for a Python program. Your job is to produce a detailed plan. First, analyze and think about the function, then produce a plan. Do not generate any code. The function and docstring will be provided, so they do not need to be defined or initialized again within your plan.\\n\\nRespond in the following format:\\n\\n<thinking>\\nYour thought process and analysis of the function goes here. This should include considerations about the function\\'s purpose, inputs, outputs, and any potential challenges or considerations.\\n</thinking>\\n\\n<plan>\\nYour detailed plan for implementing the function goes here. This should outline the steps to implement the function without including actual code.\\n</plan>\\n\\nEnsure your response follows this exact format, with the analysis enclosed in <thinking> tags and the plan enclosed in <plan> tags. The content within each tag should be a continuous paragraph without line breaks.<|eot_id|><|start_header_id|>user<|end_header_id|>\\n\\nclass Stack:\\n    def __init__(self):\\n        self.stack = []\\n\\n    def push(self, element):\\n        self.stack.append(element)\\n\\n    def pop(self):\\n        if self.is_empty():\\n            raise IndexError(\"Stack is empty\")\\n        return self.stack.pop()\\n\\n    def is_empty(self):\\n        return len(self.stack) == 0\\n\\n    def print_stack_in_reverse(self):\\n        \"\"\"\\n        Prints the elements of the stack in reverse order.\\n        \\n        >>> stack = Stack()\\n        >>> stack.push(1)\\n        >>> stack.push(2)\\n        >>> stack.push(3)\\n        >>> stack.print_stack_in_reverse()\\n        3\\n        2\\n        1\\n        >>> stack = Stack()\\n        >>> stack.print_stack_in_reverse()\\n        Stack is empty\\n        \"\"\"<|eot_id|><|start_header_id|>assistant<|end_header_id|>\\n\\n<thinking>\\nThe `print_stack_in_reverse` function\\'s purpose is to output the elements of the stack in reverse order, essentially displaying the last element pushed first and the first element pushed last. The function does not take any parameters and relies on the internal state of the stack. It is important to consider the case when the stack is empty, as this should result in a specific message being printed rather than attempting to access elements that do not exist, which could lead to errors. The expected output includes printing each element on a new line. The challenge lies in managing the state of the stack to ensure that it can print correctly, including handling the empty state appropriately.\\n</thinking>\\n<plan>\\n1. Check if the stack is empty by calling the is_empty method.\\n2. If the stack is empty, print a message indicating \\'Stack is empty\\'.\\n3. If the stack is not empty, create a temporary list to hold the elements for printing.\\n4. Iterate through the elements of the stack in reverse order using a loop that starts from the last index down to the first index.\\n5. For each element in the reverse iteration, print the element directly to the output.\\n6. Ensure that each element is printed on a new line.\\n</plan><|eot_id|>'}"
      ]
     },
     "execution_count": 4,
     "metadata": {},
     "output_type": "execute_result"
    }
   ],
   "source": [
    "processed_dataset[0]"
   ]
  },
  {
   "cell_type": "code",
   "execution_count": 5,
   "metadata": {},
   "outputs": [
    {
     "name": "stderr",
     "output_type": "stream",
     "text": [
      "Uploading the dataset shards:   0%|          | 0/1 [00:00<?, ?it/s]"
     ]
    },
    {
     "name": "stderr",
     "output_type": "stream",
     "text": [
      "Creating parquet from Arrow format: 100%|██████████| 10/10 [00:00<00:00, 19.12ba/s]\n",
      "Uploading the dataset shards: 100%|██████████| 1/1 [00:07<00:00,  7.48s/it]\n"
     ]
    },
    {
     "data": {
      "text/plain": [
       "CommitInfo(commit_url='https://huggingface.co/datasets/verifiers-for-code/sampled_10k_from_27k/commit/22f6cba15362bc567b4d6230dac5d2a6d421e470', commit_message='Upload dataset', commit_description='', oid='22f6cba15362bc567b4d6230dac5d2a6d421e470', pr_url=None, pr_revision=None, pr_num=None)"
      ]
     },
     "execution_count": 5,
     "metadata": {},
     "output_type": "execute_result"
    }
   ],
   "source": [
    "processed_dataset.push_to_hub(\"verifiers-for-code/sampled_10k_from_27k\")"
   ]
  },
  {
   "cell_type": "code",
   "execution_count": null,
   "metadata": {},
   "outputs": [],
   "source": []
  }
 ],
 "metadata": {
  "kernelspec": {
   "display_name": "inference",
   "language": "python",
   "name": "python3"
  },
  "language_info": {
   "codemirror_mode": {
    "name": "ipython",
    "version": 3
   },
   "file_extension": ".py",
   "mimetype": "text/x-python",
   "name": "python",
   "nbconvert_exporter": "python",
   "pygments_lexer": "ipython3",
   "version": "3.10.14"
  }
 },
 "nbformat": 4,
 "nbformat_minor": 2
}
