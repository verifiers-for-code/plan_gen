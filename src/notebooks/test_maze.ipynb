{
 "cells": [
  {
   "cell_type": "code",
   "execution_count": 1,
   "metadata": {},
   "outputs": [
    {
     "name": "stderr",
     "output_type": "stream",
     "text": [
      "/home/abhinav/miniconda3/envs/inference/lib/python3.10/site-packages/tqdm/auto.py:21: TqdmWarning: IProgress not found. Please update jupyter and ipywidgets. See https://ipywidgets.readthedocs.io/en/stable/user_install.html\n",
      "  from .autonotebook import tqdm as notebook_tqdm\n"
     ]
    }
   ],
   "source": [
    "from datasets import load_dataset"
   ]
  },
  {
   "cell_type": "code",
   "execution_count": 2,
   "metadata": {},
   "outputs": [
    {
     "name": "stderr",
     "output_type": "stream",
     "text": [
      "Downloading readme: 100%|██████████| 775/775 [00:00<00:00, 4.90MB/s]\n",
      "Downloading data: 100%|██████████| 18.9M/18.9M [00:01<00:00, 9.83MB/s]\n",
      "Downloading data: 100%|██████████| 2.12M/2.12M [00:00<00:00, 6.28MB/s]\n",
      "Generating train split: 100%|██████████| 67500/67500 [00:00<00:00, 127911.81 examples/s]\n",
      "Generating test split: 100%|██████████| 7500/7500 [00:00<00:00, 131696.46 examples/s]\n"
     ]
    }
   ],
   "source": [
    "df = load_dataset('sumuks/maze-problem-multi-size-grid', split='train')"
   ]
  },
  {
   "cell_type": "code",
   "execution_count": 3,
   "metadata": {},
   "outputs": [
    {
     "data": {
      "text/plain": [
       "{'text': '<|user|>\\n| X | . | . | . |\\n| . | . | - | . |\\n| . | . | . | X |\\n| . | . | . | . |<|end|>\\n<|assistant|>\\n| X | = | = | = |\\n| . | . | - | = |\\n| . | . | . | X |\\n| . | . | . | . |<|end|>\\n<|endoftext|>',\n",
       " 'problem': '| X | . | . | . |\\n| . | . | - | . |\\n| . | . | . | X |\\n| . | . | . | . |',\n",
       " 'solution': '| X | = | = | = |\\n| . | . | - | = |\\n| . | . | . | X |\\n| . | . | . | . |',\n",
       " 'grid_size': 4,\n",
       " 'representation': {'end': [3, 2],\n",
       "  'grid_size': 4,\n",
       "  'obstacles': [[1, 2]],\n",
       "  'solution': [[0, 0], [1, 0], [2, 0], [3, 0], [3, 1], [3, 2]],\n",
       "  'start': [0, 0]}}"
      ]
     },
     "execution_count": 3,
     "metadata": {},
     "output_type": "execute_result"
    }
   ],
   "source": [
    "df[0]"
   ]
  },
  {
   "cell_type": "code",
   "execution_count": null,
   "metadata": {},
   "outputs": [],
   "source": []
  }
 ],
 "metadata": {
  "kernelspec": {
   "display_name": "inference",
   "language": "python",
   "name": "python3"
  },
  "language_info": {
   "codemirror_mode": {
    "name": "ipython",
    "version": 3
   },
   "file_extension": ".py",
   "mimetype": "text/x-python",
   "name": "python",
   "nbconvert_exporter": "python",
   "pygments_lexer": "ipython3",
   "version": "3.10.14"
  }
 },
 "nbformat": 4,
 "nbformat_minor": 2
}
