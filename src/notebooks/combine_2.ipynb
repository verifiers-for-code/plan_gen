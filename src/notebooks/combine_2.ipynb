{
 "cells": [
  {
   "cell_type": "code",
   "execution_count": 46,
   "metadata": {},
   "outputs": [],
   "source": [
    "from datasets import Dataset, concatenate_datasets, load_dataset\n",
    "import pandas as pd"
   ]
  },
  {
   "cell_type": "code",
   "execution_count": 47,
   "metadata": {},
   "outputs": [],
   "source": [
    "df1 = load_dataset('verifiers-for-code/merged', split='train')"
   ]
  },
  {
   "cell_type": "code",
   "execution_count": 48,
   "metadata": {},
   "outputs": [
    {
     "data": {
      "text/plain": [
       "Dataset({\n",
       "    features: ['problem', 'solution', '70B_plans'],\n",
       "    num_rows: 436326\n",
       "})"
      ]
     },
     "execution_count": 48,
     "metadata": {},
     "output_type": "execute_result"
    }
   ],
   "source": [
    "df1"
   ]
  },
  {
   "cell_type": "code",
   "execution_count": 49,
   "metadata": {},
   "outputs": [],
   "source": [
    "merge1 = load_dataset('verifiers-for-code/sampled_10k_from_27k', split='train')"
   ]
  },
  {
   "cell_type": "code",
   "execution_count": 50,
   "metadata": {},
   "outputs": [
    {
     "data": {
      "text/plain": [
       "Dataset({\n",
       "    features: ['input', 'code', 'gpt-4o-mini-plans', 'text', 'text_gemma', 'text_nosys_phi', 'text_llama'],\n",
       "    num_rows: 10000\n",
       "})"
      ]
     },
     "execution_count": 50,
     "metadata": {},
     "output_type": "execute_result"
    }
   ],
   "source": [
    "merge1"
   ]
  },
  {
   "cell_type": "code",
   "execution_count": 51,
   "metadata": {},
   "outputs": [],
   "source": [
    "merge1 = merge1.rename_column('input', 'problem')\n",
    "merge1 = merge1.rename_column('code', 'solution')\n",
    "merge1 = merge1.rename_column('gpt-4o-mini-plans', '70B_plans')\n",
    "\n",
    "# Select only the columns we need from merge3\n",
    "merge1_subset = merge1.select_columns(['problem', 'solution', '70B_plans'])\n",
    "\n",
    "# Concatenate the datasets\n",
    "df2 = concatenate_datasets([df1, merge1_subset])"
   ]
  },
  {
   "cell_type": "code",
   "execution_count": 52,
   "metadata": {},
   "outputs": [
    {
     "data": {
      "text/plain": [
       "Dataset({\n",
       "    features: ['problem', 'solution', '70B_plans'],\n",
       "    num_rows: 446326\n",
       "})"
      ]
     },
     "execution_count": 52,
     "metadata": {},
     "output_type": "execute_result"
    }
   ],
   "source": [
    "df2"
   ]
  },
  {
   "cell_type": "code",
   "execution_count": 53,
   "metadata": {},
   "outputs": [],
   "source": [
    "merge2 = load_dataset('verifiers-for-code/second100k_plangen', split='train')"
   ]
  },
  {
   "cell_type": "code",
   "execution_count": 54,
   "metadata": {},
   "outputs": [
    {
     "data": {
      "text/plain": [
       "Dataset({\n",
       "    features: ['problem', 'solution', 'generated_plans_Llama-3_1-70B'],\n",
       "    num_rows: 100000\n",
       "})"
      ]
     },
     "execution_count": 54,
     "metadata": {},
     "output_type": "execute_result"
    }
   ],
   "source": [
    "merge2"
   ]
  },
  {
   "cell_type": "code",
   "execution_count": 55,
   "metadata": {},
   "outputs": [],
   "source": [
    "merge2 = merge2.rename_column('generated_plans_Llama-3_1-70B', '70B_plans')\n",
    "\n",
    "# Select only the columns we need from merge3\n",
    "merge2_subset = merge2.select_columns(['problem', 'solution', '70B_plans'])\n",
    "\n",
    "# Concatenate the datasets\n",
    "df3 = concatenate_datasets([df2, merge2_subset])"
   ]
  },
  {
   "cell_type": "code",
   "execution_count": 56,
   "metadata": {},
   "outputs": [
    {
     "data": {
      "text/plain": [
       "Dataset({\n",
       "    features: ['problem', 'solution', '70B_plans'],\n",
       "    num_rows: 546326\n",
       "})"
      ]
     },
     "execution_count": 56,
     "metadata": {},
     "output_type": "execute_result"
    }
   ],
   "source": [
    "df3"
   ]
  },
  {
   "cell_type": "code",
   "execution_count": 60,
   "metadata": {},
   "outputs": [],
   "source": [
    "df3 = df3.rename_column('70B_plans','plan')"
   ]
  },
  {
   "cell_type": "code",
   "execution_count": 61,
   "metadata": {},
   "outputs": [],
   "source": [
    "df3 = df3.rename_column('problem', 'input')"
   ]
  },
  {
   "cell_type": "code",
   "execution_count": 62,
   "metadata": {},
   "outputs": [
    {
     "data": {
      "text/plain": [
       "Dataset({\n",
       "    features: ['input', 'solution', 'plan'],\n",
       "    num_rows: 546326\n",
       "})"
      ]
     },
     "execution_count": 62,
     "metadata": {},
     "output_type": "execute_result"
    }
   ],
   "source": [
    "df3"
   ]
  },
  {
   "cell_type": "code",
   "execution_count": 63,
   "metadata": {},
   "outputs": [
    {
     "name": "stderr",
     "output_type": "stream",
     "text": [
      "Creating parquet from Arrow format: 100%|██████████| 137/137 [00:00<00:00, 172.39ba/s]\n",
      "Creating parquet from Arrow format: 100%|██████████| 137/137 [00:00<00:00, 148.43ba/s]\n",
      "Creating parquet from Arrow format: 100%|██████████| 137/137 [00:01<00:00, 104.90ba/s]\n",
      "Creating parquet from Arrow format: 100%|██████████| 137/137 [00:01<00:00, 123.35ba/s]\n",
      "Uploading the dataset shards: 100%|██████████| 4/4 [00:57<00:00, 14.41s/it]\n"
     ]
    },
    {
     "data": {
      "text/plain": [
       "CommitInfo(commit_url='https://huggingface.co/datasets/verifiers-for-code/merged/commit/dabf2eca59b5854b7ba751f6e0503be293595890', commit_message='Upload dataset', commit_description='', oid='dabf2eca59b5854b7ba751f6e0503be293595890', pr_url=None, pr_revision=None, pr_num=None)"
      ]
     },
     "execution_count": 63,
     "metadata": {},
     "output_type": "execute_result"
    }
   ],
   "source": [
    "df3.push_to_hub('verifiers-for-code/merged')"
   ]
  },
  {
   "cell_type": "code",
   "execution_count": null,
   "metadata": {},
   "outputs": [],
   "source": []
  }
 ],
 "metadata": {
  "kernelspec": {
   "display_name": "vllm_env",
   "language": "python",
   "name": "python3"
  },
  "language_info": {
   "codemirror_mode": {
    "name": "ipython",
    "version": 3
   },
   "file_extension": ".py",
   "mimetype": "text/x-python",
   "name": "python",
   "nbconvert_exporter": "python",
   "pygments_lexer": "ipython3",
   "version": "3.10.14"
  }
 },
 "nbformat": 4,
 "nbformat_minor": 2
}
